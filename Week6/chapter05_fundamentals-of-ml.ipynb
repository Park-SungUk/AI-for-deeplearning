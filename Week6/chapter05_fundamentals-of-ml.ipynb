{
  "cells": [
    {
      "cell_type": "markdown",
      "metadata": {
        "id": "view-in-github",
        "colab_type": "text"
      },
      "source": [
        "<a href=\"https://colab.research.google.com/github/Park-SungUk/AI-for-deeplearning/blob/main/Week6/chapter05_fundamentals-of-ml.ipynb\" target=\"_parent\"><img src=\"https://colab.research.google.com/assets/colab-badge.svg\" alt=\"Open In Colab\"/></a>"
      ]
    },
    {
      "cell_type": "markdown",
      "metadata": {
        "id": "IIdHcBu4Uu06"
      },
      "source": [
        "This is a companion notebook for the book [Deep Learning with Python, Second Edition](https://www.manning.com/books/deep-learning-with-python-second-edition?a_aid=keras&a_bid=76564dff). For readability, it only contains runnable code blocks and section titles, and omits everything else in the book: text paragraphs, figures, and pseudocode.\n",
        "\n",
        "**If you want to be able to follow what's going on, I recommend reading the notebook side by side with your copy of the book.**\n",
        "\n",
        "This notebook was generated for TensorFlow 2.6."
      ]
    },
    {
      "cell_type": "markdown",
      "metadata": {
        "id": "2ntK71XFUu0-"
      },
      "source": [
        "# Fundamentals of machine learning"
      ]
    },
    {
      "cell_type": "markdown",
      "metadata": {
        "id": "qwaGKUm1Uu0_"
      },
      "source": [
        "## Generalization: The goal of machine learning"
      ]
    },
    {
      "cell_type": "markdown",
      "metadata": {
        "id": "zDvAd5oSUu0_"
      },
      "source": [
        "### Underfitting and overfitting"
      ]
    },
    {
      "cell_type": "markdown",
      "metadata": {
        "id": "IsEBvvrbUu0_"
      },
      "source": [
        "#### Noisy training data"
      ]
    },
    {
      "cell_type": "markdown",
      "metadata": {
        "id": "Iskr61MwUu1A"
      },
      "source": [
        "#### Ambiguous features"
      ]
    },
    {
      "cell_type": "markdown",
      "metadata": {
        "id": "fB-D2YC6Uu1A"
      },
      "source": [
        "#### Rare features and spurious correlations"
      ]
    },
    {
      "cell_type": "markdown",
      "metadata": {
        "id": "hwTF5RvcUu1A"
      },
      "source": [
        "**Adding white-noise channels or all-zeros channels to MNIST**"
      ]
    },
    {
      "cell_type": "code",
      "execution_count": 48,
      "metadata": {
        "id": "Lv7xHengUu1B"
      },
      "outputs": [],
      "source": [
        "#MNIST 데이터 가져옴\n",
        "from tensorflow.keras.datasets import mnist \n",
        "import numpy as np\n",
        "#데이터 전처리\n",
        "(train_images, train_labels), _ = mnist.load_data()\n",
        "train_images = train_images.reshape((60000, 28 * 28))\n",
        "train_images = train_images.astype(\"float32\") / 255\n",
        "#train_image + noise(random 이용)\n",
        "train_images_with_noise_channels = np.concatenate(\n",
        "    [train_images, np.random.random((len(train_images), 784))], axis=1)\n",
        "#train_image + zero (0붙임)\n",
        "train_images_with_zeros_channels = np.concatenate(\n",
        "    [train_images, np.zeros((len(train_images), 784))], axis=1)"
      ]
    },
    {
      "cell_type": "markdown",
      "metadata": {
        "id": "-6qZsvxzUu1B"
      },
      "source": [
        "**Training the same model on MNIST data with noise channels or all-zero channels**"
      ]
    },
    {
      "cell_type": "code",
      "execution_count": 50,
      "metadata": {
        "id": "1-CHXKo1Uu1C",
        "outputId": "65f90f9b-1749-47e6-ff7c-0ab734a0cbec",
        "colab": {
          "base_uri": "https://localhost:8080/"
        }
      },
      "outputs": [
        {
          "output_type": "stream",
          "name": "stdout",
          "text": [
            "Epoch 1/10\n",
            "375/375 [==============================] - 3s 4ms/step - loss: 0.2961 - accuracy: 0.9150 - val_loss: 0.1524 - val_accuracy: 0.9574\n",
            "Epoch 2/10\n",
            "375/375 [==============================] - 1s 4ms/step - loss: 0.1222 - accuracy: 0.9637 - val_loss: 0.1117 - val_accuracy: 0.9663\n",
            "Epoch 3/10\n",
            "375/375 [==============================] - 1s 3ms/step - loss: 0.0803 - accuracy: 0.9759 - val_loss: 0.1002 - val_accuracy: 0.9703\n",
            "Epoch 4/10\n",
            "375/375 [==============================] - 1s 3ms/step - loss: 0.0576 - accuracy: 0.9828 - val_loss: 0.0824 - val_accuracy: 0.9764\n",
            "Epoch 5/10\n",
            "375/375 [==============================] - 1s 3ms/step - loss: 0.0430 - accuracy: 0.9874 - val_loss: 0.0860 - val_accuracy: 0.9750\n",
            "Epoch 6/10\n",
            "375/375 [==============================] - 1s 3ms/step - loss: 0.0326 - accuracy: 0.9907 - val_loss: 0.0789 - val_accuracy: 0.9776\n",
            "Epoch 7/10\n",
            "375/375 [==============================] - 1s 3ms/step - loss: 0.0250 - accuracy: 0.9929 - val_loss: 0.0782 - val_accuracy: 0.9775\n",
            "Epoch 8/10\n",
            "375/375 [==============================] - 2s 4ms/step - loss: 0.0184 - accuracy: 0.9950 - val_loss: 0.0747 - val_accuracy: 0.9797\n",
            "Epoch 9/10\n",
            "375/375 [==============================] - 2s 4ms/step - loss: 0.0135 - accuracy: 0.9968 - val_loss: 0.0779 - val_accuracy: 0.9790\n",
            "Epoch 10/10\n",
            "375/375 [==============================] - 1s 3ms/step - loss: 0.0101 - accuracy: 0.9976 - val_loss: 0.0810 - val_accuracy: 0.9790\n",
            "Epoch 1/10\n",
            "375/375 [==============================] - 2s 4ms/step - loss: 0.6207 - accuracy: 0.8099 - val_loss: 0.3140 - val_accuracy: 0.9014\n",
            "Epoch 2/10\n",
            "375/375 [==============================] - 1s 3ms/step - loss: 0.2563 - accuracy: 0.9207 - val_loss: 0.2448 - val_accuracy: 0.9251\n",
            "Epoch 3/10\n",
            "375/375 [==============================] - 1s 4ms/step - loss: 0.1691 - accuracy: 0.9474 - val_loss: 0.1505 - val_accuracy: 0.9550\n",
            "Epoch 4/10\n",
            "375/375 [==============================] - 1s 3ms/step - loss: 0.1236 - accuracy: 0.9619 - val_loss: 0.1520 - val_accuracy: 0.9563\n",
            "Epoch 5/10\n",
            "375/375 [==============================] - 1s 3ms/step - loss: 0.0905 - accuracy: 0.9712 - val_loss: 0.1531 - val_accuracy: 0.9534\n",
            "Epoch 6/10\n",
            "375/375 [==============================] - 2s 5ms/step - loss: 0.0673 - accuracy: 0.9787 - val_loss: 0.1249 - val_accuracy: 0.9623\n",
            "Epoch 7/10\n",
            "375/375 [==============================] - 1s 4ms/step - loss: 0.0490 - accuracy: 0.9841 - val_loss: 0.1242 - val_accuracy: 0.9668\n",
            "Epoch 8/10\n",
            "375/375 [==============================] - 1s 3ms/step - loss: 0.0362 - accuracy: 0.9881 - val_loss: 0.1251 - val_accuracy: 0.9639\n",
            "Epoch 9/10\n",
            "375/375 [==============================] - 1s 3ms/step - loss: 0.0276 - accuracy: 0.9919 - val_loss: 0.1891 - val_accuracy: 0.9523\n",
            "Epoch 10/10\n",
            "375/375 [==============================] - 1s 4ms/step - loss: 0.0194 - accuracy: 0.9942 - val_loss: 0.1462 - val_accuracy: 0.9659\n",
            "Epoch 1/10\n",
            "375/375 [==============================] - 2s 5ms/step - loss: 0.2968 - accuracy: 0.9143 - val_loss: 0.1503 - val_accuracy: 0.9587\n",
            "Epoch 2/10\n",
            "375/375 [==============================] - 1s 3ms/step - loss: 0.1245 - accuracy: 0.9644 - val_loss: 0.1133 - val_accuracy: 0.9656\n",
            "Epoch 3/10\n",
            "375/375 [==============================] - 2s 5ms/step - loss: 0.0820 - accuracy: 0.9761 - val_loss: 0.1011 - val_accuracy: 0.9690\n",
            "Epoch 4/10\n",
            "375/375 [==============================] - 1s 4ms/step - loss: 0.0587 - accuracy: 0.9825 - val_loss: 0.0880 - val_accuracy: 0.9742\n",
            "Epoch 5/10\n",
            "375/375 [==============================] - 1s 3ms/step - loss: 0.0449 - accuracy: 0.9866 - val_loss: 0.0758 - val_accuracy: 0.9768\n",
            "Epoch 6/10\n",
            "375/375 [==============================] - 1s 4ms/step - loss: 0.0339 - accuracy: 0.9897 - val_loss: 0.0796 - val_accuracy: 0.9779\n",
            "Epoch 7/10\n",
            "375/375 [==============================] - 1s 4ms/step - loss: 0.0252 - accuracy: 0.9928 - val_loss: 0.0737 - val_accuracy: 0.9788\n",
            "Epoch 8/10\n",
            "375/375 [==============================] - 1s 4ms/step - loss: 0.0191 - accuracy: 0.9946 - val_loss: 0.0779 - val_accuracy: 0.9781\n",
            "Epoch 9/10\n",
            "375/375 [==============================] - 1s 3ms/step - loss: 0.0145 - accuracy: 0.9962 - val_loss: 0.0718 - val_accuracy: 0.9806\n",
            "Epoch 10/10\n",
            "375/375 [==============================] - 1s 3ms/step - loss: 0.0104 - accuracy: 0.9975 - val_loss: 0.0785 - val_accuracy: 0.9797\n"
          ]
        }
      ],
      "source": [
        "from tensorflow import keras\n",
        "from tensorflow.keras import layers\n",
        "\n",
        "#모델 만들기\n",
        "def get_model(): \n",
        "    model = keras.Sequential([\n",
        "        layers.Dense(512, activation=\"relu\"),\n",
        "        layers.Dense(10, activation=\"softmax\")\n",
        "    ])\n",
        "    model.compile(optimizer=\"rmsprop\",\n",
        "                  loss=\"sparse_categorical_crossentropy\",\n",
        "                  metrics=[\"accuracy\"])\n",
        "    return model\n",
        "#histroy_original 데이터훈련\n",
        "history_original = model.fit(\n",
        "    train_images, train_labels,\n",
        "    epochs=10,\n",
        "    batch_size=128,\n",
        "    validation_split=0.2) #validation : 20%\n",
        "#history_noise : noise 데이터로 훈련\n",
        "model = get_model() \n",
        "history_noise = model.fit(\n",
        "    train_images_with_noise_channels, train_labels,\n",
        "    epochs=10,\n",
        "    batch_size=128,\n",
        "    validation_split=0.2) #validation : 20%\n",
        "#history_zero : zero 데이터로 훈련련\n",
        "model = get_model()\n",
        "history_zeros = model.fit(\n",
        "    train_images_with_zeros_channels, train_labels,\n",
        "    epochs=10,\n",
        "    batch_size=128,\n",
        "    validation_split=0.2)"
      ]
    },
    {
      "cell_type": "markdown",
      "metadata": {
        "id": "qkhIkmNCUu1C"
      },
      "source": [
        "**Plotting a validation accuracy comparison**"
      ]
    },
    {
      "cell_type": "code",
      "execution_count": 51,
      "metadata": {
        "id": "BzOHC04eUu1C",
        "outputId": "a96e505d-415c-4300-f836-eaa9884bf1b4",
        "colab": {
          "base_uri": "https://localhost:8080/",
          "height": 490
        }
      },
      "outputs": [
        {
          "output_type": "execute_result",
          "data": {
            "text/plain": [
              "<matplotlib.legend.Legend at 0x7fbf1b092a60>"
            ]
          },
          "metadata": {},
          "execution_count": 51
        },
        {
          "output_type": "display_data",
          "data": {
            "text/plain": [
              "<Figure size 640x480 with 1 Axes>"
            ],
            "image/png": "[encoded data removed]"
          },
          "metadata": {}
        }
      ],
      "source": [
        "import matplotlib.pyplot as plt\n",
        "#validation 정확도 비교\n",
        "val_acc_original = history_original.history[\"val_accuracy\"]\n",
        "val_acc_noise = history_noise.history[\"val_accuracy\"]\n",
        "val_acc_zeros = history_zeros.history[\"val_accuracy\"]\n",
        "epochs = range(1, 11)\n",
        "plt.plot(epochs, val_acc_noise, \"b-\",\n",
        "         label=\"Validation accuracy with noise channels\")\n",
        "plt.plot(epochs, val_acc_zeros, \"b--\",\n",
        "         label=\"Validation accuracy with zeros channels\")\n",
        "plt.plot(epochs, val_acc_original, \"r-\",\n",
        "         label=\"Validation accuracy with original data\")\n",
        "\n",
        "plt.title(\"Effect of noise channels on validation accuracy\")\n",
        "plt.xlabel(\"Epochs\")\n",
        "plt.ylabel(\"Accuracy\")\n",
        "plt.legend()"
      ]
    },
    {
      "cell_type": "markdown",
      "metadata": {
        "id": "Vsw3VhrkUu1D"
      },
      "source": [
        "### The nature of generalization in deep learning"
      ]
    },
    {
      "cell_type": "markdown",
      "metadata": {
        "id": "fa-wIbCYUu1D"
      },
      "source": [
        "**Fitting a MNIST model with randomly shuffled labels**"
      ]
    },
    {
      "cell_type": "code",
      "execution_count": 55,
      "metadata": {
        "id": "vJDgtR59Uu1D",
        "outputId": "ebbcd6be-8788-4005-fd4b-30d384d313ba",
        "colab": {
          "base_uri": "https://localhost:8080/"
        }
      },
      "outputs": [
        {
          "output_type": "stream",
          "name": "stdout",
          "text": [
            "Epoch 1/100\n",
            "375/375 [==============================] - 3s 5ms/step - loss: 2.3151 - accuracy: 0.1015 - val_loss: 2.3052 - val_accuracy: 0.1054\n",
            "Epoch 2/100\n",
            "375/375 [==============================] - 1s 3ms/step - loss: 2.2992 - accuracy: 0.1158 - val_loss: 2.3098 - val_accuracy: 0.1056\n",
            "Epoch 3/100\n",
            "375/375 [==============================] - 1s 3ms/step - loss: 2.2911 - accuracy: 0.1245 - val_loss: 2.3187 - val_accuracy: 0.1053\n",
            "Epoch 4/100\n",
            "375/375 [==============================] - 1s 4ms/step - loss: 2.2794 - accuracy: 0.1411 - val_loss: 2.3243 - val_accuracy: 0.0986\n",
            "Epoch 5/100\n",
            "375/375 [==============================] - 1s 3ms/step - loss: 2.2636 - accuracy: 0.1496 - val_loss: 2.3399 - val_accuracy: 0.0981\n",
            "Epoch 6/100\n",
            "375/375 [==============================] - 1s 4ms/step - loss: 2.2449 - accuracy: 0.1645 - val_loss: 2.3521 - val_accuracy: 0.1007\n",
            "Epoch 7/100\n",
            "375/375 [==============================] - 1s 3ms/step - loss: 2.2216 - accuracy: 0.1796 - val_loss: 2.3607 - val_accuracy: 0.1018\n",
            "Epoch 8/100\n",
            "375/375 [==============================] - 2s 5ms/step - loss: 2.1950 - accuracy: 0.1959 - val_loss: 2.3762 - val_accuracy: 0.0993\n",
            "Epoch 9/100\n",
            "375/375 [==============================] - 1s 4ms/step - loss: 2.1647 - accuracy: 0.2132 - val_loss: 2.3947 - val_accuracy: 0.1003\n",
            "Epoch 10/100\n",
            "375/375 [==============================] - 1s 3ms/step - loss: 2.1330 - accuracy: 0.2310 - val_loss: 2.4208 - val_accuracy: 0.1003\n",
            "Epoch 11/100\n",
            "375/375 [==============================] - 1s 4ms/step - loss: 2.0982 - accuracy: 0.2442 - val_loss: 2.4510 - val_accuracy: 0.1004\n",
            "Epoch 12/100\n",
            "375/375 [==============================] - 1s 3ms/step - loss: 2.0628 - accuracy: 0.2593 - val_loss: 2.4776 - val_accuracy: 0.1033\n",
            "Epoch 13/100\n",
            "375/375 [==============================] - 1s 4ms/step - loss: 2.0254 - accuracy: 0.2807 - val_loss: 2.5023 - val_accuracy: 0.1025\n",
            "Epoch 14/100\n",
            "375/375 [==============================] - 1s 3ms/step - loss: 1.9864 - accuracy: 0.2951 - val_loss: 2.5289 - val_accuracy: 0.0983\n",
            "Epoch 15/100\n",
            "375/375 [==============================] - 1s 3ms/step - loss: 1.9467 - accuracy: 0.3163 - val_loss: 2.5659 - val_accuracy: 0.1008\n",
            "Epoch 16/100\n",
            "375/375 [==============================] - 1s 4ms/step - loss: 1.9081 - accuracy: 0.3296 - val_loss: 2.5981 - val_accuracy: 0.1033\n",
            "Epoch 17/100\n",
            "375/375 [==============================] - 2s 5ms/step - loss: 1.8669 - accuracy: 0.3465 - val_loss: 2.6418 - val_accuracy: 0.1002\n",
            "Epoch 18/100\n",
            "375/375 [==============================] - 1s 3ms/step - loss: 1.8278 - accuracy: 0.3642 - val_loss: 2.6812 - val_accuracy: 0.0985\n",
            "Epoch 19/100\n",
            "375/375 [==============================] - 1s 4ms/step - loss: 1.7884 - accuracy: 0.3799 - val_loss: 2.7203 - val_accuracy: 0.1009\n",
            "Epoch 20/100\n",
            "375/375 [==============================] - 1s 3ms/step - loss: 1.7495 - accuracy: 0.3938 - val_loss: 2.7568 - val_accuracy: 0.1027\n",
            "Epoch 21/100\n",
            "375/375 [==============================] - 1s 3ms/step - loss: 1.7104 - accuracy: 0.4076 - val_loss: 2.7943 - val_accuracy: 0.1003\n",
            "Epoch 22/100\n",
            "375/375 [==============================] - 1s 3ms/step - loss: 1.6742 - accuracy: 0.4242 - val_loss: 2.8254 - val_accuracy: 0.0973\n",
            "Epoch 23/100\n",
            "375/375 [==============================] - 1s 4ms/step - loss: 1.6354 - accuracy: 0.4387 - val_loss: 2.8864 - val_accuracy: 0.1011\n",
            "Epoch 24/100\n",
            "375/375 [==============================] - 1s 3ms/step - loss: 1.5991 - accuracy: 0.4534 - val_loss: 2.9523 - val_accuracy: 0.0994\n",
            "Epoch 25/100\n",
            "375/375 [==============================] - 2s 4ms/step - loss: 1.5632 - accuracy: 0.4657 - val_loss: 2.9788 - val_accuracy: 0.1008\n",
            "Epoch 26/100\n",
            "375/375 [==============================] - 2s 5ms/step - loss: 1.5292 - accuracy: 0.4791 - val_loss: 3.0142 - val_accuracy: 0.0993\n",
            "Epoch 27/100\n",
            "375/375 [==============================] - 1s 3ms/step - loss: 1.4945 - accuracy: 0.4914 - val_loss: 3.0716 - val_accuracy: 0.1002\n",
            "Epoch 28/100\n",
            "375/375 [==============================] - 1s 4ms/step - loss: 1.4614 - accuracy: 0.5046 - val_loss: 3.1154 - val_accuracy: 0.0972\n",
            "Epoch 29/100\n",
            "375/375 [==============================] - 1s 3ms/step - loss: 1.4307 - accuracy: 0.5146 - val_loss: 3.1795 - val_accuracy: 0.0991\n",
            "Epoch 30/100\n",
            "375/375 [==============================] - 1s 3ms/step - loss: 1.3978 - accuracy: 0.5268 - val_loss: 3.2437 - val_accuracy: 0.1002\n",
            "Epoch 31/100\n",
            "375/375 [==============================] - 1s 3ms/step - loss: 1.3706 - accuracy: 0.5366 - val_loss: 3.2731 - val_accuracy: 0.0972\n",
            "Epoch 32/100\n",
            "375/375 [==============================] - 1s 3ms/step - loss: 1.3372 - accuracy: 0.5479 - val_loss: 3.3330 - val_accuracy: 0.1004\n",
            "Epoch 33/100\n",
            "375/375 [==============================] - 1s 3ms/step - loss: 1.3104 - accuracy: 0.5573 - val_loss: 3.3801 - val_accuracy: 0.0980\n",
            "Epoch 34/100\n",
            "375/375 [==============================] - 2s 5ms/step - loss: 1.2824 - accuracy: 0.5673 - val_loss: 3.4287 - val_accuracy: 0.0981\n",
            "Epoch 35/100\n",
            "375/375 [==============================] - 1s 4ms/step - loss: 1.2532 - accuracy: 0.5798 - val_loss: 3.4863 - val_accuracy: 0.0999\n",
            "Epoch 36/100\n",
            "375/375 [==============================] - 1s 3ms/step - loss: 1.2263 - accuracy: 0.5901 - val_loss: 3.5453 - val_accuracy: 0.0962\n",
            "Epoch 37/100\n",
            "375/375 [==============================] - 1s 4ms/step - loss: 1.2005 - accuracy: 0.5977 - val_loss: 3.6022 - val_accuracy: 0.0983\n",
            "Epoch 38/100\n",
            "375/375 [==============================] - 1s 4ms/step - loss: 1.1757 - accuracy: 0.6071 - val_loss: 3.6802 - val_accuracy: 0.1001\n",
            "Epoch 39/100\n",
            "375/375 [==============================] - 1s 3ms/step - loss: 1.1493 - accuracy: 0.6163 - val_loss: 3.7444 - val_accuracy: 0.0988\n",
            "Epoch 40/100\n",
            "375/375 [==============================] - 1s 4ms/step - loss: 1.1268 - accuracy: 0.6245 - val_loss: 3.7918 - val_accuracy: 0.0993\n",
            "Epoch 41/100\n",
            "375/375 [==============================] - 1s 3ms/step - loss: 1.1026 - accuracy: 0.6327 - val_loss: 3.8690 - val_accuracy: 0.0990\n",
            "Epoch 42/100\n",
            "375/375 [==============================] - 2s 4ms/step - loss: 1.0800 - accuracy: 0.6383 - val_loss: 3.9504 - val_accuracy: 0.1002\n",
            "Epoch 43/100\n",
            "375/375 [==============================] - 2s 4ms/step - loss: 1.0591 - accuracy: 0.6483 - val_loss: 3.9634 - val_accuracy: 0.0992\n",
            "Epoch 44/100\n",
            "375/375 [==============================] - 1s 3ms/step - loss: 1.0374 - accuracy: 0.6553 - val_loss: 4.0288 - val_accuracy: 0.1000\n",
            "Epoch 45/100\n",
            "375/375 [==============================] - 1s 3ms/step - loss: 1.0156 - accuracy: 0.6641 - val_loss: 4.0971 - val_accuracy: 0.0996\n",
            "Epoch 46/100\n",
            "375/375 [==============================] - 1s 4ms/step - loss: 0.9946 - accuracy: 0.6723 - val_loss: 4.1638 - val_accuracy: 0.1032\n",
            "Epoch 47/100\n",
            "375/375 [==============================] - 1s 3ms/step - loss: 0.9729 - accuracy: 0.6771 - val_loss: 4.2497 - val_accuracy: 0.1007\n",
            "Epoch 48/100\n",
            "375/375 [==============================] - 1s 4ms/step - loss: 0.9560 - accuracy: 0.6832 - val_loss: 4.2975 - val_accuracy: 0.1009\n",
            "Epoch 49/100\n",
            "375/375 [==============================] - 1s 3ms/step - loss: 0.9333 - accuracy: 0.6941 - val_loss: 4.3407 - val_accuracy: 0.0993\n",
            "Epoch 50/100\n",
            "375/375 [==============================] - 1s 3ms/step - loss: 0.9148 - accuracy: 0.7001 - val_loss: 4.4106 - val_accuracy: 0.1033\n",
            "Epoch 51/100\n",
            "375/375 [==============================] - 2s 4ms/step - loss: 0.8959 - accuracy: 0.7044 - val_loss: 4.5113 - val_accuracy: 0.0958\n",
            "Epoch 52/100\n",
            "375/375 [==============================] - 2s 5ms/step - loss: 0.8775 - accuracy: 0.7104 - val_loss: 4.5302 - val_accuracy: 0.1006\n",
            "Epoch 53/100\n",
            "375/375 [==============================] - 1s 3ms/step - loss: 0.8581 - accuracy: 0.7191 - val_loss: 4.6493 - val_accuracy: 0.0983\n",
            "Epoch 54/100\n",
            "375/375 [==============================] - 1s 4ms/step - loss: 0.8422 - accuracy: 0.7235 - val_loss: 4.6723 - val_accuracy: 0.0999\n",
            "Epoch 55/100\n",
            "375/375 [==============================] - 1s 4ms/step - loss: 0.8269 - accuracy: 0.7309 - val_loss: 4.7342 - val_accuracy: 0.1020\n",
            "Epoch 56/100\n",
            "375/375 [==============================] - 1s 3ms/step - loss: 0.8081 - accuracy: 0.7356 - val_loss: 4.8243 - val_accuracy: 0.0975\n",
            "Epoch 57/100\n",
            "375/375 [==============================] - 1s 3ms/step - loss: 0.7934 - accuracy: 0.7423 - val_loss: 4.8933 - val_accuracy: 0.0982\n",
            "Epoch 58/100\n",
            "375/375 [==============================] - 1s 3ms/step - loss: 0.7757 - accuracy: 0.7478 - val_loss: 4.9563 - val_accuracy: 0.0989\n",
            "Epoch 59/100\n",
            "375/375 [==============================] - 1s 4ms/step - loss: 0.7607 - accuracy: 0.7519 - val_loss: 5.0353 - val_accuracy: 0.0981\n",
            "Epoch 60/100\n",
            "375/375 [==============================] - 2s 5ms/step - loss: 0.7475 - accuracy: 0.7563 - val_loss: 5.1223 - val_accuracy: 0.1022\n",
            "Epoch 61/100\n",
            "375/375 [==============================] - 1s 3ms/step - loss: 0.7302 - accuracy: 0.7638 - val_loss: 5.1758 - val_accuracy: 0.1015\n",
            "Epoch 62/100\n",
            "375/375 [==============================] - 1s 3ms/step - loss: 0.7163 - accuracy: 0.7669 - val_loss: 5.3283 - val_accuracy: 0.0975\n",
            "Epoch 63/100\n",
            "375/375 [==============================] - 1s 3ms/step - loss: 0.7017 - accuracy: 0.7717 - val_loss: 5.3227 - val_accuracy: 0.1031\n",
            "Epoch 64/100\n",
            "375/375 [==============================] - 1s 3ms/step - loss: 0.6867 - accuracy: 0.7794 - val_loss: 5.3943 - val_accuracy: 0.1002\n",
            "Epoch 65/100\n",
            "375/375 [==============================] - 1s 4ms/step - loss: 0.6747 - accuracy: 0.7819 - val_loss: 5.4635 - val_accuracy: 0.1003\n",
            "Epoch 66/100\n",
            "375/375 [==============================] - 1s 3ms/step - loss: 0.6618 - accuracy: 0.7872 - val_loss: 5.5244 - val_accuracy: 0.1003\n",
            "Epoch 67/100\n",
            "375/375 [==============================] - 1s 3ms/step - loss: 0.6501 - accuracy: 0.7900 - val_loss: 5.6496 - val_accuracy: 0.0982\n",
            "Epoch 68/100\n",
            "375/375 [==============================] - 1s 3ms/step - loss: 0.6343 - accuracy: 0.7968 - val_loss: 5.6126 - val_accuracy: 0.1002\n",
            "Epoch 69/100\n",
            "375/375 [==============================] - 2s 5ms/step - loss: 0.6223 - accuracy: 0.8012 - val_loss: 5.7335 - val_accuracy: 0.0995\n",
            "Epoch 70/100\n",
            "375/375 [==============================] - 1s 3ms/step - loss: 0.6117 - accuracy: 0.8024 - val_loss: 5.7989 - val_accuracy: 0.0956\n",
            "Epoch 71/100\n",
            "375/375 [==============================] - 1s 3ms/step - loss: 0.5977 - accuracy: 0.8079 - val_loss: 5.8697 - val_accuracy: 0.0976\n",
            "Epoch 72/100\n",
            "375/375 [==============================] - 1s 3ms/step - loss: 0.5874 - accuracy: 0.8104 - val_loss: 5.9283 - val_accuracy: 0.0991\n",
            "Epoch 73/100\n",
            "375/375 [==============================] - 1s 4ms/step - loss: 0.5736 - accuracy: 0.8166 - val_loss: 6.0704 - val_accuracy: 0.0968\n",
            "Epoch 74/100\n",
            "375/375 [==============================] - 1s 3ms/step - loss: 0.5648 - accuracy: 0.8203 - val_loss: 6.0808 - val_accuracy: 0.0997\n",
            "Epoch 75/100\n",
            "375/375 [==============================] - 1s 3ms/step - loss: 0.5546 - accuracy: 0.8237 - val_loss: 6.1659 - val_accuracy: 0.1003\n",
            "Epoch 76/100\n",
            "375/375 [==============================] - 1s 4ms/step - loss: 0.5445 - accuracy: 0.8261 - val_loss: 6.2686 - val_accuracy: 0.1010\n",
            "Epoch 77/100\n",
            "375/375 [==============================] - 1s 4ms/step - loss: 0.5356 - accuracy: 0.8291 - val_loss: 6.3318 - val_accuracy: 0.0997\n",
            "Epoch 78/100\n",
            "375/375 [==============================] - 2s 4ms/step - loss: 0.5232 - accuracy: 0.8346 - val_loss: 6.3693 - val_accuracy: 0.1009\n",
            "Epoch 79/100\n",
            "375/375 [==============================] - 1s 3ms/step - loss: 0.5134 - accuracy: 0.8396 - val_loss: 6.4889 - val_accuracy: 0.1007\n",
            "Epoch 80/100\n",
            "375/375 [==============================] - 1s 4ms/step - loss: 0.5055 - accuracy: 0.8400 - val_loss: 6.5195 - val_accuracy: 0.0981\n",
            "Epoch 81/100\n",
            "375/375 [==============================] - 1s 3ms/step - loss: 0.4923 - accuracy: 0.8431 - val_loss: 6.6330 - val_accuracy: 0.1018\n",
            "Epoch 82/100\n",
            "375/375 [==============================] - 1s 4ms/step - loss: 0.4863 - accuracy: 0.8459 - val_loss: 6.7002 - val_accuracy: 0.0991\n",
            "Epoch 83/100\n",
            "375/375 [==============================] - 1s 3ms/step - loss: 0.4760 - accuracy: 0.8489 - val_loss: 6.7660 - val_accuracy: 0.0996\n",
            "Epoch 84/100\n",
            "375/375 [==============================] - 1s 4ms/step - loss: 0.4674 - accuracy: 0.8519 - val_loss: 6.8377 - val_accuracy: 0.0995\n",
            "Epoch 85/100\n",
            "375/375 [==============================] - 1s 4ms/step - loss: 0.4578 - accuracy: 0.8553 - val_loss: 6.9327 - val_accuracy: 0.0988\n",
            "Epoch 86/100\n",
            "375/375 [==============================] - 2s 4ms/step - loss: 0.4512 - accuracy: 0.8581 - val_loss: 6.9874 - val_accuracy: 0.0987\n",
            "Epoch 87/100\n",
            "375/375 [==============================] - 1s 4ms/step - loss: 0.4416 - accuracy: 0.8619 - val_loss: 7.0298 - val_accuracy: 0.1005\n",
            "Epoch 88/100\n",
            "375/375 [==============================] - 1s 4ms/step - loss: 0.4339 - accuracy: 0.8638 - val_loss: 7.1539 - val_accuracy: 0.1006\n",
            "Epoch 89/100\n",
            "375/375 [==============================] - 1s 4ms/step - loss: 0.4266 - accuracy: 0.8662 - val_loss: 7.2106 - val_accuracy: 0.0979\n",
            "Epoch 90/100\n",
            "375/375 [==============================] - 1s 3ms/step - loss: 0.4179 - accuracy: 0.8701 - val_loss: 7.2755 - val_accuracy: 0.0997\n",
            "Epoch 91/100\n",
            "375/375 [==============================] - 1s 4ms/step - loss: 0.4100 - accuracy: 0.8705 - val_loss: 7.3663 - val_accuracy: 0.0989\n",
            "Epoch 92/100\n",
            "375/375 [==============================] - 1s 3ms/step - loss: 0.4020 - accuracy: 0.8750 - val_loss: 7.4384 - val_accuracy: 0.1006\n",
            "Epoch 93/100\n",
            "375/375 [==============================] - 1s 4ms/step - loss: 0.3955 - accuracy: 0.8765 - val_loss: 7.5012 - val_accuracy: 0.0994\n",
            "Epoch 94/100\n",
            "375/375 [==============================] - 1s 4ms/step - loss: 0.3868 - accuracy: 0.8797 - val_loss: 7.5588 - val_accuracy: 0.1000\n",
            "Epoch 95/100\n",
            "375/375 [==============================] - 2s 5ms/step - loss: 0.3808 - accuracy: 0.8823 - val_loss: 7.7158 - val_accuracy: 0.1017\n",
            "Epoch 96/100\n",
            "375/375 [==============================] - 1s 3ms/step - loss: 0.3740 - accuracy: 0.8838 - val_loss: 7.7954 - val_accuracy: 0.0979\n",
            "Epoch 97/100\n",
            "375/375 [==============================] - 1s 3ms/step - loss: 0.3686 - accuracy: 0.8856 - val_loss: 7.8830 - val_accuracy: 0.1047\n",
            "Epoch 98/100\n",
            "375/375 [==============================] - 1s 4ms/step - loss: 0.3616 - accuracy: 0.8885 - val_loss: 7.8276 - val_accuracy: 0.0995\n",
            "Epoch 99/100\n",
            "375/375 [==============================] - 1s 3ms/step - loss: 0.3539 - accuracy: 0.8916 - val_loss: 7.9495 - val_accuracy: 0.1017\n",
            "Epoch 100/100\n",
            "375/375 [==============================] - 1s 3ms/step - loss: 0.3491 - accuracy: 0.8926 - val_loss: 7.9922 - val_accuracy: 0.1002\n"
          ]
        }
      ],
      "source": [
        "(train_images, train_labels), _ = mnist.load_data()\n",
        "train_images = train_images.reshape((60000, 28 * 28))\n",
        "train_images = train_images.astype(\"float32\") / 255\n",
        "#데이터 섞은후 다시 훈련\n",
        "random_train_labels = train_labels[:]\n",
        "np.random.shuffle(random_train_labels)\n",
        "#모델 만들고->컴파일->훈련\n",
        "model = keras.Sequential([\n",
        "    layers.Dense(512, activation=\"relu\"),\n",
        "    layers.Dense(10, activation=\"softmax\")\n",
        "])\n",
        "model.compile(optimizer=\"rmsprop\",\n",
        "              loss=\"sparse_categorical_crossentropy\",\n",
        "              metrics=[\"accuracy\"])\n",
        "model_history = model.fit(train_images, random_train_labels,\n",
        "          epochs=100,\n",
        "          batch_size=128,\n",
        "          validation_split=0.2)"
      ]
    },
    {
      "cell_type": "code",
      "source": [
        "#### 준비\n",
        "import matplotlib.pyplot as plt\n",
        "val_acc_shuffle = model_history.history[\"val_accuracy\"]\n",
        "train_acc_shuffle = model_history.history[\"accuracy\"]\n",
        "epochs = range(1, 101) #1부터 100까지는 1,101임. history epoch하고 동일하게 되어야함.\n",
        "plt.plot(epochs, train_acc_shuffle, \"r--\",\n",
        "         label=\"Train accuracy with shuffled data\")\n",
        "plt.plot(epochs, val_acc_shuffle, \"b-\",\n",
        "         label=\"Validation accuracy with shuffled data\")\n",
        "\n",
        "plt.title(\"Training meanless data\")\n",
        "plt.xlabel(\"Epochs\")\n",
        "plt.ylabel(\"Accuracy\")\n",
        "plt.legend()"
      ],
      "metadata": {
        "id": "eYj3qYi7itnE",
        "outputId": "a822dc3e-1e07-4327-e6d4-25d3bd452b97",
        "colab": {
          "base_uri": "https://localhost:8080/",
          "height": 490
        }
      },
      "execution_count": 57,
      "outputs": [
        {
          "output_type": "execute_result",
          "data": {
            "text/plain": [
              "<matplotlib.legend.Legend at 0x7fbf1ab81790>"
            ]
          },
          "metadata": {},
          "execution_count": 57
        },
        {
          "output_type": "display_data",
          "data": {
            "text/plain": [
              "<Figure size 640x480 with 1 Axes>"
            ],
            "image/png": "[encoded data removed]"
          },
          "metadata": {}
        }
      ]
    },
    {
      "cell_type": "markdown",
      "metadata": {
        "id": "tpq5wGKcUu1E"
      },
      "source": [
        "# 질문 : The manifold hypothesis"
      ]
    },
    {
      "cell_type": "markdown",
      "metadata": {
        "id": "oBsqvUgwUu1E"
      },
      "source": [
        "#### Interpolation as a source of generalization"
      ]
    },
    {
      "cell_type": "markdown",
      "metadata": {
        "id": "Focb7U_-Uu1F"
      },
      "source": [
        "#### Why deep learning works"
      ]
    },
    {
      "cell_type": "markdown",
      "metadata": {
        "id": "shWnK_5WUu1F"
      },
      "source": [
        "#### Training data is paramount"
      ]
    },
    {
      "cell_type": "markdown",
      "metadata": {
        "id": "vh1tbEVRUu1F"
      },
      "source": [
        "## Evaluating machine-learning models"
      ]
    },
    {
      "cell_type": "markdown",
      "metadata": {
        "id": "4eLcA2MIUu1F"
      },
      "source": [
        "### Training, validation, and test sets"
      ]
    },
    {
      "cell_type": "markdown",
      "metadata": {
        "id": "gKofCezUUu1G"
      },
      "source": [
        "#### Simple hold-out validation"
      ]
    },
    {
      "cell_type": "markdown",
      "metadata": {
        "id": "n1hHot4kUu1G"
      },
      "source": [
        "#### K-fold validation"
      ]
    },
    {
      "cell_type": "markdown",
      "metadata": {
        "id": "aBR1vtcPUu1G"
      },
      "source": [
        "#### Iterated K-fold validation with shuffling"
      ]
    },
    {
      "cell_type": "markdown",
      "metadata": {
        "id": "zGiTrtV5Uu1H"
      },
      "source": [
        "### Beating a common-sense baseline"
      ]
    },
    {
      "cell_type": "markdown",
      "metadata": {
        "id": "iwO9lnt0Uu1H"
      },
      "source": [
        "### Things to keep in mind about model evaluation"
      ]
    },
    {
      "cell_type": "markdown",
      "metadata": {
        "id": "MqsBGTjEUu1H"
      },
      "source": [
        "## Improving model fit"
      ]
    },
    {
      "cell_type": "markdown",
      "metadata": {
        "id": "1QQVNj-6Uu1H"
      },
      "source": [
        "### Tuning key gradient descent parameters"
      ]
    },
    {
      "cell_type": "markdown",
      "metadata": {
        "id": "gUngS5EoUu1I"
      },
      "source": [
        "**Training a MNIST model with an incorrectly high learning rate**"
      ]
    },
    {
      "cell_type": "code",
      "execution_count": 5,
      "metadata": {
        "id": "p730nJiRUu1I",
        "outputId": "3fbfc180-e7f0-448b-e5a1-47008dc6502f",
        "colab": {
          "base_uri": "https://localhost:8080/"
        }
      },
      "outputs": [
        {
          "output_type": "stream",
          "name": "stdout",
          "text": [
            "Epoch 1/10\n",
            "375/375 [==============================] - 2s 4ms/step - loss: 798.3196 - accuracy: 0.3000 - val_loss: 4.1683 - val_accuracy: 0.1548\n",
            "Epoch 2/10\n",
            "375/375 [==============================] - 1s 3ms/step - loss: 2.7491 - accuracy: 0.2046 - val_loss: 2.1247 - val_accuracy: 0.1989\n",
            "Epoch 3/10\n",
            "375/375 [==============================] - 1s 3ms/step - loss: 2.5757 - accuracy: 0.2087 - val_loss: 2.1684 - val_accuracy: 0.2178\n",
            "Epoch 4/10\n",
            "375/375 [==============================] - 1s 3ms/step - loss: 2.7052 - accuracy: 0.2299 - val_loss: 2.2219 - val_accuracy: 0.1955\n",
            "Epoch 5/10\n",
            "375/375 [==============================] - 1s 4ms/step - loss: 2.4830 - accuracy: 0.2200 - val_loss: 2.1343 - val_accuracy: 0.1955\n",
            "Epoch 6/10\n",
            "375/375 [==============================] - 2s 5ms/step - loss: 2.2967 - accuracy: 0.1932 - val_loss: 2.2365 - val_accuracy: 0.2299\n",
            "Epoch 7/10\n",
            "375/375 [==============================] - 1s 3ms/step - loss: 2.5503 - accuracy: 0.2043 - val_loss: 2.2410 - val_accuracy: 0.1722\n",
            "Epoch 8/10\n",
            "375/375 [==============================] - 1s 4ms/step - loss: 2.3674 - accuracy: 0.2100 - val_loss: 2.0982 - val_accuracy: 0.2165\n",
            "Epoch 9/10\n",
            "375/375 [==============================] - 1s 3ms/step - loss: 2.3403 - accuracy: 0.2152 - val_loss: 2.2254 - val_accuracy: 0.2330\n",
            "Epoch 10/10\n",
            "375/375 [==============================] - 1s 3ms/step - loss: 2.3083 - accuracy: 0.2242 - val_loss: 2.1976 - val_accuracy: 0.2299\n"
          ]
        },
        {
          "output_type": "execute_result",
          "data": {
            "text/plain": [
              "<keras.callbacks.History at 0x7fbf1dede3a0>"
            ]
          },
          "metadata": {},
          "execution_count": 5
        }
      ],
      "source": [
        "(train_images, train_labels), _ = mnist.load_data()\n",
        "train_images = train_images.reshape((60000, 28 * 28))\n",
        "train_images = train_images.astype(\"float32\") / 255\n",
        "\n",
        "model = keras.Sequential([\n",
        "    layers.Dense(512, activation=\"relu\"),\n",
        "    layers.Dense(10, activation=\"softmax\")\n",
        "])\n",
        "#rmsprop(a.) - a:learning rate\n",
        "#높은 학습률 적용 모델델\n",
        "model.compile(optimizer=keras.optimizers.RMSprop(1.),\n",
        "              loss=\"sparse_categorical_crossentropy\",\n",
        "              metrics=[\"accuracy\"])\n",
        "model.fit(train_images, train_labels,\n",
        "          epochs=10,\n",
        "          batch_size=128,\n",
        "          validation_split=0.2)"
      ]
    },
    {
      "cell_type": "markdown",
      "metadata": {
        "id": "4LAlNq3zUu1I"
      },
      "source": [
        "**The same model with a more appropriate learning rate**"
      ]
    },
    {
      "cell_type": "code",
      "execution_count": 6,
      "metadata": {
        "id": "yIn87FMsUu1J",
        "outputId": "15c27099-f7f9-4389-d9a2-7a4dc112cfd4",
        "colab": {
          "base_uri": "https://localhost:8080/"
        }
      },
      "outputs": [
        {
          "output_type": "stream",
          "name": "stdout",
          "text": [
            "Epoch 1/10\n",
            "375/375 [==============================] - 2s 4ms/step - loss: 0.3672 - accuracy: 0.9125 - val_loss: 0.1605 - val_accuracy: 0.9540\n",
            "Epoch 2/10\n",
            "375/375 [==============================] - 1s 3ms/step - loss: 0.1271 - accuracy: 0.9644 - val_loss: 0.1309 - val_accuracy: 0.9683\n",
            "Epoch 3/10\n",
            "375/375 [==============================] - 1s 3ms/step - loss: 0.0928 - accuracy: 0.9746 - val_loss: 0.1456 - val_accuracy: 0.9627\n",
            "Epoch 4/10\n",
            "375/375 [==============================] - 2s 5ms/step - loss: 0.0834 - accuracy: 0.9792 - val_loss: 0.1900 - val_accuracy: 0.9663\n",
            "Epoch 5/10\n",
            "375/375 [==============================] - 2s 4ms/step - loss: 0.0704 - accuracy: 0.9825 - val_loss: 0.1495 - val_accuracy: 0.9722\n",
            "Epoch 6/10\n",
            "375/375 [==============================] - 1s 3ms/step - loss: 0.0611 - accuracy: 0.9849 - val_loss: 0.1650 - val_accuracy: 0.9728\n",
            "Epoch 7/10\n",
            "375/375 [==============================] - 1s 3ms/step - loss: 0.0528 - accuracy: 0.9873 - val_loss: 0.1827 - val_accuracy: 0.9723\n",
            "Epoch 8/10\n",
            "375/375 [==============================] - 1s 3ms/step - loss: 0.0423 - accuracy: 0.9896 - val_loss: 0.2004 - val_accuracy: 0.9710\n",
            "Epoch 9/10\n",
            "375/375 [==============================] - 1s 3ms/step - loss: 0.0402 - accuracy: 0.9903 - val_loss: 0.2040 - val_accuracy: 0.9749\n",
            "Epoch 10/10\n",
            "375/375 [==============================] - 1s 4ms/step - loss: 0.0367 - accuracy: 0.9913 - val_loss: 0.2224 - val_accuracy: 0.9751\n"
          ]
        },
        {
          "output_type": "execute_result",
          "data": {
            "text/plain": [
              "<keras.callbacks.History at 0x7fbf1de69e50>"
            ]
          },
          "metadata": {},
          "execution_count": 6
        }
      ],
      "source": [
        "model = keras.Sequential([\n",
        "    layers.Dense(512, activation=\"relu\"),\n",
        "    layers.Dense(10, activation=\"softmax\")\n",
        "])\n",
        "#학습률 0.01 이용용\n",
        "model.compile(optimizer=keras.optimizers.RMSprop(1e-2),\n",
        "              loss=\"sparse_categorical_crossentropy\",\n",
        "              metrics=[\"accuracy\"])\n",
        "model.fit(train_images, train_labels,\n",
        "          epochs=10,\n",
        "          batch_size=128,\n",
        "          validation_split=0.2)"
      ]
    },
    {
      "cell_type": "markdown",
      "metadata": {
        "id": "Zp902uyzUu1J"
      },
      "source": [
        "### Leveraging better architecture priors"
      ]
    },
    {
      "cell_type": "markdown",
      "metadata": {
        "id": "BSPfPXAHUu1J"
      },
      "source": [
        "### Increasing model capacity"
      ]
    },
    {
      "cell_type": "markdown",
      "metadata": {
        "id": "MeR-LnCxUu1J"
      },
      "source": [
        "**A simple logistic regression on MNIST**"
      ]
    },
    {
      "cell_type": "code",
      "execution_count": 7,
      "metadata": {
        "id": "_j51DCIBUu1K",
        "outputId": "36b4412b-f647-49a2-c361-ec0e436a1b78",
        "colab": {
          "base_uri": "https://localhost:8080/"
        }
      },
      "outputs": [
        {
          "output_type": "stream",
          "name": "stdout",
          "text": [
            "Epoch 1/20\n",
            "375/375 [==============================] - 2s 4ms/step - loss: 0.6505 - accuracy: 0.8439 - val_loss: 0.3616 - val_accuracy: 0.9026\n",
            "Epoch 2/20\n",
            "375/375 [==============================] - 1s 3ms/step - loss: 0.3532 - accuracy: 0.9035 - val_loss: 0.3104 - val_accuracy: 0.9137\n",
            "Epoch 3/20\n",
            "375/375 [==============================] - 1s 3ms/step - loss: 0.3186 - accuracy: 0.9116 - val_loss: 0.2938 - val_accuracy: 0.9193\n",
            "Epoch 4/20\n",
            "375/375 [==============================] - 1s 3ms/step - loss: 0.3024 - accuracy: 0.9153 - val_loss: 0.2845 - val_accuracy: 0.9202\n",
            "Epoch 5/20\n",
            "375/375 [==============================] - 1s 4ms/step - loss: 0.2925 - accuracy: 0.9186 - val_loss: 0.2794 - val_accuracy: 0.9231\n",
            "Epoch 6/20\n",
            "375/375 [==============================] - 1s 4ms/step - loss: 0.2858 - accuracy: 0.9205 - val_loss: 0.2764 - val_accuracy: 0.9235\n",
            "Epoch 7/20\n",
            "375/375 [==============================] - 2s 6ms/step - loss: 0.2811 - accuracy: 0.9215 - val_loss: 0.2717 - val_accuracy: 0.9257\n",
            "Epoch 8/20\n",
            "375/375 [==============================] - 1s 3ms/step - loss: 0.2771 - accuracy: 0.9224 - val_loss: 0.2695 - val_accuracy: 0.9272\n",
            "Epoch 9/20\n",
            "375/375 [==============================] - 1s 3ms/step - loss: 0.2737 - accuracy: 0.9236 - val_loss: 0.2682 - val_accuracy: 0.9270\n",
            "Epoch 10/20\n",
            "375/375 [==============================] - 1s 3ms/step - loss: 0.2708 - accuracy: 0.9249 - val_loss: 0.2688 - val_accuracy: 0.9273\n",
            "Epoch 11/20\n",
            "375/375 [==============================] - 1s 3ms/step - loss: 0.2689 - accuracy: 0.9260 - val_loss: 0.2662 - val_accuracy: 0.9280\n",
            "Epoch 12/20\n",
            "375/375 [==============================] - 1s 3ms/step - loss: 0.2666 - accuracy: 0.9266 - val_loss: 0.2701 - val_accuracy: 0.9260\n",
            "Epoch 13/20\n",
            "375/375 [==============================] - 1s 3ms/step - loss: 0.2653 - accuracy: 0.9273 - val_loss: 0.2654 - val_accuracy: 0.9275\n",
            "Epoch 14/20\n",
            "375/375 [==============================] - 1s 3ms/step - loss: 0.2635 - accuracy: 0.9275 - val_loss: 0.2644 - val_accuracy: 0.9286\n",
            "Epoch 15/20\n",
            "375/375 [==============================] - 1s 3ms/step - loss: 0.2619 - accuracy: 0.9276 - val_loss: 0.2658 - val_accuracy: 0.9281\n",
            "Epoch 16/20\n",
            "375/375 [==============================] - 1s 3ms/step - loss: 0.2607 - accuracy: 0.9276 - val_loss: 0.2640 - val_accuracy: 0.9287\n",
            "Epoch 17/20\n",
            "375/375 [==============================] - 2s 4ms/step - loss: 0.2598 - accuracy: 0.9287 - val_loss: 0.2620 - val_accuracy: 0.9303\n",
            "Epoch 18/20\n",
            "375/375 [==============================] - 1s 4ms/step - loss: 0.2583 - accuracy: 0.9292 - val_loss: 0.2649 - val_accuracy: 0.9293\n",
            "Epoch 19/20\n",
            "375/375 [==============================] - 1s 3ms/step - loss: 0.2575 - accuracy: 0.9290 - val_loss: 0.2635 - val_accuracy: 0.9295\n",
            "Epoch 20/20\n",
            "375/375 [==============================] - 1s 3ms/step - loss: 0.2566 - accuracy: 0.9291 - val_loss: 0.2627 - val_accuracy: 0.9298\n"
          ]
        }
      ],
      "source": [
        "#모델 레이어 1개 == simple logistic regression (underfit)\n",
        "model = keras.Sequential([layers.Dense(10, activation=\"softmax\")])\n",
        "model.compile(optimizer=\"rmsprop\",\n",
        "              loss=\"sparse_categorical_crossentropy\",\n",
        "              metrics=[\"accuracy\"])\n",
        "history_small_model = model.fit(\n",
        "    train_images, train_labels,\n",
        "    epochs=20,\n",
        "    batch_size=128,\n",
        "    validation_split=0.2)"
      ]
    },
    {
      "cell_type": "code",
      "execution_count": 8,
      "metadata": {
        "id": "dGLqWLvcUu1K",
        "outputId": "df21aa4e-a8d1-4c5d-feb5-5ec17c51208a",
        "colab": {
          "base_uri": "https://localhost:8080/",
          "height": 490
        }
      },
      "outputs": [
        {
          "output_type": "execute_result",
          "data": {
            "text/plain": [
              "<matplotlib.legend.Legend at 0x7fbf1dba67c0>"
            ]
          },
          "metadata": {},
          "execution_count": 8
        },
        {
          "output_type": "display_data",
          "data": {
            "text/plain": [
              "<Figure size 640x480 with 1 Axes>"
            ],
            "image/png": "[encoded data removed]"
          },
          "metadata": {}
        }
      ],
      "source": [
        "import matplotlib.pyplot as plt\n",
        "val_loss = history_small_model.history[\"val_loss\"]\n",
        "epochs = range(1, 21)\n",
        "plt.plot(epochs, val_loss, \"b--\",\n",
        "         label=\"Validation loss\")\n",
        "plt.title(\"Effect of insufficient model capacity on validation loss\")\n",
        "plt.xlabel(\"Epochs\")\n",
        "plt.ylabel(\"Loss\")\n",
        "plt.legend()"
      ]
    },
    {
      "cell_type": "code",
      "execution_count": 9,
      "metadata": {
        "id": "G-FjGWeOUu1K",
        "outputId": "95c08e3a-93d7-4aac-ad1b-ce0506725830",
        "colab": {
          "base_uri": "https://localhost:8080/"
        }
      },
      "outputs": [
        {
          "output_type": "stream",
          "name": "stdout",
          "text": [
            "Epoch 1/20\n",
            "375/375 [==============================] - 2s 4ms/step - loss: 0.3665 - accuracy: 0.8961 - val_loss: 0.1776 - val_accuracy: 0.9483\n",
            "Epoch 2/20\n",
            "375/375 [==============================] - 2s 5ms/step - loss: 0.1590 - accuracy: 0.9523 - val_loss: 0.1308 - val_accuracy: 0.9622\n",
            "Epoch 3/20\n",
            "375/375 [==============================] - 2s 4ms/step - loss: 0.1119 - accuracy: 0.9664 - val_loss: 0.1265 - val_accuracy: 0.9627\n",
            "Epoch 4/20\n",
            "375/375 [==============================] - 1s 4ms/step - loss: 0.0874 - accuracy: 0.9738 - val_loss: 0.1097 - val_accuracy: 0.9684\n",
            "Epoch 5/20\n",
            "375/375 [==============================] - 1s 4ms/step - loss: 0.0723 - accuracy: 0.9778 - val_loss: 0.1016 - val_accuracy: 0.9703\n",
            "Epoch 6/20\n",
            "375/375 [==============================] - 1s 4ms/step - loss: 0.0596 - accuracy: 0.9822 - val_loss: 0.1065 - val_accuracy: 0.9703\n",
            "Epoch 7/20\n",
            "375/375 [==============================] - 1s 3ms/step - loss: 0.0501 - accuracy: 0.9847 - val_loss: 0.1310 - val_accuracy: 0.9643\n",
            "Epoch 8/20\n",
            "375/375 [==============================] - 1s 3ms/step - loss: 0.0424 - accuracy: 0.9872 - val_loss: 0.0989 - val_accuracy: 0.9739\n",
            "Epoch 9/20\n",
            "375/375 [==============================] - 1s 4ms/step - loss: 0.0364 - accuracy: 0.9887 - val_loss: 0.0995 - val_accuracy: 0.9746\n",
            "Epoch 10/20\n",
            "375/375 [==============================] - 2s 4ms/step - loss: 0.0307 - accuracy: 0.9905 - val_loss: 0.1007 - val_accuracy: 0.9728\n",
            "Epoch 11/20\n",
            "375/375 [==============================] - 2s 6ms/step - loss: 0.0259 - accuracy: 0.9924 - val_loss: 0.1095 - val_accuracy: 0.9726\n",
            "Epoch 12/20\n",
            "375/375 [==============================] - 2s 5ms/step - loss: 0.0221 - accuracy: 0.9933 - val_loss: 0.1232 - val_accuracy: 0.9696\n",
            "Epoch 13/20\n",
            "375/375 [==============================] - 2s 4ms/step - loss: 0.0197 - accuracy: 0.9939 - val_loss: 0.1325 - val_accuracy: 0.9693\n",
            "Epoch 14/20\n",
            "375/375 [==============================] - 2s 4ms/step - loss: 0.0162 - accuracy: 0.9951 - val_loss: 0.1135 - val_accuracy: 0.9755\n",
            "Epoch 15/20\n",
            "375/375 [==============================] - 1s 4ms/step - loss: 0.0131 - accuracy: 0.9962 - val_loss: 0.1132 - val_accuracy: 0.9762\n",
            "Epoch 16/20\n",
            "375/375 [==============================] - 1s 4ms/step - loss: 0.0116 - accuracy: 0.9964 - val_loss: 0.1306 - val_accuracy: 0.9732\n",
            "Epoch 17/20\n",
            "375/375 [==============================] - 1s 3ms/step - loss: 0.0097 - accuracy: 0.9969 - val_loss: 0.1239 - val_accuracy: 0.9758\n",
            "Epoch 18/20\n",
            "375/375 [==============================] - 2s 4ms/step - loss: 0.0091 - accuracy: 0.9976 - val_loss: 0.1390 - val_accuracy: 0.9722\n",
            "Epoch 19/20\n",
            "375/375 [==============================] - 2s 5ms/step - loss: 0.0072 - accuracy: 0.9978 - val_loss: 0.1318 - val_accuracy: 0.9763\n",
            "Epoch 20/20\n",
            "375/375 [==============================] - 2s 4ms/step - loss: 0.0063 - accuracy: 0.9981 - val_loss: 0.1469 - val_accuracy: 0.9737\n"
          ]
        }
      ],
      "source": [
        "#underfit -> overfit\n",
        "model = keras.Sequential([\n",
        "    layers.Dense(96, activation=\"relu\"),\n",
        "    layers.Dense(96, activation=\"relu\"),\n",
        "    layers.Dense(10, activation=\"softmax\"),\n",
        "])\n",
        "model.compile(optimizer=\"rmsprop\",\n",
        "              loss=\"sparse_categorical_crossentropy\",\n",
        "              metrics=[\"accuracy\"])\n",
        "history_large_model = model.fit(\n",
        "    train_images, train_labels,\n",
        "    epochs=20,\n",
        "    batch_size=128,\n",
        "    validation_split=0.2)"
      ]
    },
    {
      "cell_type": "markdown",
      "metadata": {
        "id": "7Go5SaIUUu1K"
      },
      "source": [
        "## Improving generalization"
      ]
    },
    {
      "cell_type": "markdown",
      "metadata": {
        "id": "WHTl334_Uu1L"
      },
      "source": [
        "### Dataset curation"
      ]
    },
    {
      "cell_type": "markdown",
      "metadata": {
        "id": "j7QystV4Uu1L"
      },
      "source": [
        "### Feature engineering"
      ]
    },
    {
      "cell_type": "markdown",
      "metadata": {
        "id": "_Fr2Ie7PUu1L"
      },
      "source": [
        "### Using early stopping"
      ]
    },
    {
      "cell_type": "markdown",
      "metadata": {
        "id": "kzt7SECVUu1L"
      },
      "source": [
        "### Regularizing your model"
      ]
    },
    {
      "cell_type": "markdown",
      "metadata": {
        "id": "oObYC0c5Uu1M"
      },
      "source": [
        "#### Reducing the network's size"
      ]
    },
    {
      "cell_type": "markdown",
      "metadata": {
        "id": "rgcBy9wrUu1M"
      },
      "source": [
        "**Original model**"
      ]
    },
    {
      "cell_type": "code",
      "execution_count": 10,
      "metadata": {
        "id": "8rkVQvePUu1M",
        "outputId": "043ce5fd-a4d0-48e8-8345-a3501cd3f4e0",
        "colab": {
          "base_uri": "https://localhost:8080/"
        }
      },
      "outputs": [
        {
          "output_type": "stream",
          "name": "stdout",
          "text": [
            "Downloading data from https://storage.googleapis.com/tensorflow/tf-keras-datasets/imdb.npz\n",
            "17464789/17464789 [==============================] - 1s 0us/step\n",
            "Epoch 1/20\n",
            "30/30 [==============================] - 3s 59ms/step - loss: 0.5493 - accuracy: 0.7617 - val_loss: 0.4161 - val_accuracy: 0.8641\n",
            "Epoch 2/20\n",
            "30/30 [==============================] - 1s 26ms/step - loss: 0.3439 - accuracy: 0.8908 - val_loss: 0.3766 - val_accuracy: 0.8409\n",
            "Epoch 3/20\n",
            "30/30 [==============================] - 1s 26ms/step - loss: 0.2571 - accuracy: 0.9153 - val_loss: 0.2867 - val_accuracy: 0.8888\n",
            "Epoch 4/20\n",
            "30/30 [==============================] - 1s 28ms/step - loss: 0.2035 - accuracy: 0.9317 - val_loss: 0.2754 - val_accuracy: 0.8912\n",
            "Epoch 5/20\n",
            "30/30 [==============================] - 1s 22ms/step - loss: 0.1724 - accuracy: 0.9421 - val_loss: 0.2975 - val_accuracy: 0.8823\n",
            "Epoch 6/20\n",
            "30/30 [==============================] - 1s 23ms/step - loss: 0.1442 - accuracy: 0.9547 - val_loss: 0.2813 - val_accuracy: 0.8882\n",
            "Epoch 7/20\n",
            "30/30 [==============================] - 1s 26ms/step - loss: 0.1262 - accuracy: 0.9590 - val_loss: 0.3064 - val_accuracy: 0.8826\n",
            "Epoch 8/20\n",
            "30/30 [==============================] - 1s 23ms/step - loss: 0.1105 - accuracy: 0.9661 - val_loss: 0.3209 - val_accuracy: 0.8807\n",
            "Epoch 9/20\n",
            "30/30 [==============================] - 1s 29ms/step - loss: 0.0944 - accuracy: 0.9735 - val_loss: 0.3184 - val_accuracy: 0.8830\n",
            "Epoch 10/20\n",
            "30/30 [==============================] - 1s 26ms/step - loss: 0.0838 - accuracy: 0.9769 - val_loss: 0.3559 - val_accuracy: 0.8757\n",
            "Epoch 11/20\n",
            "30/30 [==============================] - 1s 42ms/step - loss: 0.0722 - accuracy: 0.9812 - val_loss: 0.3534 - val_accuracy: 0.8792\n",
            "Epoch 12/20\n",
            "30/30 [==============================] - 1s 33ms/step - loss: 0.0586 - accuracy: 0.9868 - val_loss: 0.3799 - val_accuracy: 0.8760\n",
            "Epoch 13/20\n",
            "30/30 [==============================] - 1s 25ms/step - loss: 0.0544 - accuracy: 0.9858 - val_loss: 0.3978 - val_accuracy: 0.8764\n",
            "Epoch 14/20\n",
            "30/30 [==============================] - 1s 25ms/step - loss: 0.0440 - accuracy: 0.9909 - val_loss: 0.4193 - val_accuracy: 0.8763\n",
            "Epoch 15/20\n",
            "30/30 [==============================] - 1s 23ms/step - loss: 0.0386 - accuracy: 0.9921 - val_loss: 0.4548 - val_accuracy: 0.8716\n",
            "Epoch 16/20\n",
            "30/30 [==============================] - 1s 22ms/step - loss: 0.0342 - accuracy: 0.9927 - val_loss: 0.4899 - val_accuracy: 0.8695\n",
            "Epoch 17/20\n",
            "30/30 [==============================] - 1s 23ms/step - loss: 0.0293 - accuracy: 0.9946 - val_loss: 0.4849 - val_accuracy: 0.8736\n",
            "Epoch 18/20\n",
            "30/30 [==============================] - 1s 25ms/step - loss: 0.0231 - accuracy: 0.9965 - val_loss: 0.5127 - val_accuracy: 0.8703\n",
            "Epoch 19/20\n",
            "30/30 [==============================] - 1s 25ms/step - loss: 0.0199 - accuracy: 0.9973 - val_loss: 0.5338 - val_accuracy: 0.8725\n",
            "Epoch 20/20\n",
            "30/30 [==============================] - 1s 23ms/step - loss: 0.0189 - accuracy: 0.9965 - val_loss: 0.5551 - val_accuracy: 0.8712\n"
          ]
        }
      ],
      "source": [
        "#imdb 데이터셋 이용\n",
        "from tensorflow.keras.datasets import imdb\n",
        "(train_data, train_labels), _ = imdb.load_data(num_words=10000)\n",
        "\n",
        "#vectorize_sequence\n",
        "def vectorize_sequences(sequences, dimension=10000):\n",
        "    results = np.zeros((len(sequences), dimension))\n",
        "    for i, sequence in enumerate(sequences):\n",
        "        results[i, sequence] = 1.\n",
        "    return results\n",
        "train_data = vectorize_sequences(train_data)\n",
        "\n",
        "model = keras.Sequential([\n",
        "    layers.Dense(16, activation=\"relu\"),\n",
        "    layers.Dense(16, activation=\"relu\"),\n",
        "    layers.Dense(1, activation=\"sigmoid\")\n",
        "])\n",
        "model.compile(optimizer=\"rmsprop\",\n",
        "              loss=\"binary_crossentropy\",\n",
        "              metrics=[\"accuracy\"])\n",
        "history_original = model.fit(train_data, train_labels,\n",
        "                             epochs=20, batch_size=512, validation_split=0.4)"
      ]
    },
    {
      "cell_type": "markdown",
      "metadata": {
        "id": "8T1x4bs3Uu1M"
      },
      "source": [
        "**Version of the model with lower capacity**"
      ]
    },
    {
      "cell_type": "code",
      "execution_count": 11,
      "metadata": {
        "id": "9ZMTcRFGUu1N",
        "outputId": "e9e1b7d6-7c66-4009-daae-bab1549cc187",
        "colab": {
          "base_uri": "https://localhost:8080/"
        }
      },
      "outputs": [
        {
          "output_type": "stream",
          "name": "stdout",
          "text": [
            "Epoch 1/20\n",
            "30/30 [==============================] - 5s 126ms/step - loss: 0.6232 - accuracy: 0.6465 - val_loss: 0.5695 - val_accuracy: 0.7959\n",
            "Epoch 2/20\n",
            "30/30 [==============================] - 1s 32ms/step - loss: 0.5253 - accuracy: 0.7815 - val_loss: 0.5283 - val_accuracy: 0.8595\n",
            "Epoch 3/20\n",
            "30/30 [==============================] - 1s 43ms/step - loss: 0.4776 - accuracy: 0.8485 - val_loss: 0.4989 - val_accuracy: 0.8710\n",
            "Epoch 4/20\n",
            "30/30 [==============================] - 1s 25ms/step - loss: 0.4448 - accuracy: 0.8842 - val_loss: 0.4785 - val_accuracy: 0.8639\n",
            "Epoch 5/20\n",
            "30/30 [==============================] - 1s 23ms/step - loss: 0.4186 - accuracy: 0.9083 - val_loss: 0.4726 - val_accuracy: 0.8549\n",
            "Epoch 6/20\n",
            "30/30 [==============================] - 1s 23ms/step - loss: 0.3969 - accuracy: 0.9229 - val_loss: 0.4611 - val_accuracy: 0.8722\n",
            "Epoch 7/20\n",
            "30/30 [==============================] - 1s 31ms/step - loss: 0.3779 - accuracy: 0.9377 - val_loss: 0.4634 - val_accuracy: 0.8656\n",
            "Epoch 8/20\n",
            "30/30 [==============================] - 1s 28ms/step - loss: 0.3611 - accuracy: 0.9481 - val_loss: 0.4666 - val_accuracy: 0.8645\n",
            "Epoch 9/20\n",
            "30/30 [==============================] - 1s 28ms/step - loss: 0.3462 - accuracy: 0.9565 - val_loss: 0.4782 - val_accuracy: 0.8590\n",
            "Epoch 10/20\n",
            "30/30 [==============================] - 1s 43ms/step - loss: 0.3319 - accuracy: 0.9633 - val_loss: 0.4575 - val_accuracy: 0.8764\n",
            "Epoch 11/20\n",
            "30/30 [==============================] - 1s 32ms/step - loss: 0.3203 - accuracy: 0.9670 - val_loss: 0.4619 - val_accuracy: 0.8757\n",
            "Epoch 12/20\n",
            "30/30 [==============================] - 1s 39ms/step - loss: 0.3082 - accuracy: 0.9725 - val_loss: 0.4883 - val_accuracy: 0.8646\n",
            "Epoch 13/20\n",
            "30/30 [==============================] - 1s 49ms/step - loss: 0.2979 - accuracy: 0.9757 - val_loss: 0.4668 - val_accuracy: 0.8740\n",
            "Epoch 14/20\n",
            "30/30 [==============================] - 1s 40ms/step - loss: 0.2875 - accuracy: 0.9781 - val_loss: 0.4809 - val_accuracy: 0.8707\n",
            "Epoch 15/20\n",
            "30/30 [==============================] - 1s 45ms/step - loss: 0.2774 - accuracy: 0.9824 - val_loss: 0.5038 - val_accuracy: 0.8655\n",
            "Epoch 16/20\n",
            "30/30 [==============================] - 1s 30ms/step - loss: 0.2688 - accuracy: 0.9845 - val_loss: 0.5192 - val_accuracy: 0.8645\n",
            "Epoch 17/20\n",
            "30/30 [==============================] - 1s 28ms/step - loss: 0.2599 - accuracy: 0.9857 - val_loss: 0.5088 - val_accuracy: 0.8683\n",
            "Epoch 18/20\n",
            "30/30 [==============================] - 1s 30ms/step - loss: 0.2522 - accuracy: 0.9880 - val_loss: 0.5577 - val_accuracy: 0.8605\n",
            "Epoch 19/20\n",
            "30/30 [==============================] - 1s 27ms/step - loss: 0.2456 - accuracy: 0.9884 - val_loss: 0.4993 - val_accuracy: 0.8711\n",
            "Epoch 20/20\n",
            "30/30 [==============================] - 1s 27ms/step - loss: 0.2386 - accuracy: 0.9890 - val_loss: 0.5515 - val_accuracy: 0.8660\n"
          ]
        }
      ],
      "source": [
        "model = keras.Sequential([\n",
        "    layers.Dense(4, activation=\"relu\"),\n",
        "    layers.Dense(4, activation=\"relu\"),\n",
        "    layers.Dense(1, activation=\"sigmoid\")\n",
        "])\n",
        "model.compile(optimizer=\"rmsprop\",\n",
        "              loss=\"binary_crossentropy\",\n",
        "              metrics=[\"accuracy\"])\n",
        "history_smaller_model = model.fit(\n",
        "    train_data, train_labels,\n",
        "    epochs=20, batch_size=512, validation_split=0.4)"
      ]
    },
    {
      "cell_type": "markdown",
      "metadata": {
        "id": "tyFjOtHYUu1N"
      },
      "source": [
        "**Version of the model with higher capacity**"
      ]
    },
    {
      "cell_type": "code",
      "execution_count": 12,
      "metadata": {
        "id": "pWWUK-ezUu1O",
        "outputId": "d3892110-dd4f-45c4-cd7b-ba770342b329",
        "colab": {
          "base_uri": "https://localhost:8080/"
        }
      },
      "outputs": [
        {
          "output_type": "stream",
          "name": "stdout",
          "text": [
            "Epoch 1/20\n",
            "30/30 [==============================] - 3s 63ms/step - loss: 0.5754 - accuracy: 0.6969 - val_loss: 0.4177 - val_accuracy: 0.8147\n",
            "Epoch 2/20\n",
            "30/30 [==============================] - 1s 34ms/step - loss: 0.3298 - accuracy: 0.8619 - val_loss: 0.2977 - val_accuracy: 0.8842\n",
            "Epoch 3/20\n",
            "30/30 [==============================] - 1s 31ms/step - loss: 0.2350 - accuracy: 0.9094 - val_loss: 0.3249 - val_accuracy: 0.8610\n",
            "Epoch 4/20\n",
            "30/30 [==============================] - 1s 28ms/step - loss: 0.1808 - accuracy: 0.9301 - val_loss: 0.4536 - val_accuracy: 0.8223\n",
            "Epoch 5/20\n",
            "30/30 [==============================] - 1s 37ms/step - loss: 0.1447 - accuracy: 0.9454 - val_loss: 0.3231 - val_accuracy: 0.8840\n",
            "Epoch 6/20\n",
            "30/30 [==============================] - 1s 31ms/step - loss: 0.1181 - accuracy: 0.9568 - val_loss: 0.2966 - val_accuracy: 0.8849\n",
            "Epoch 7/20\n",
            "30/30 [==============================] - 1s 27ms/step - loss: 0.0668 - accuracy: 0.9791 - val_loss: 0.4005 - val_accuracy: 0.8780\n",
            "Epoch 8/20\n",
            "30/30 [==============================] - 1s 28ms/step - loss: 0.0827 - accuracy: 0.9719 - val_loss: 0.2936 - val_accuracy: 0.8836\n",
            "Epoch 9/20\n",
            "30/30 [==============================] - 1s 28ms/step - loss: 0.0183 - accuracy: 0.9979 - val_loss: 0.4306 - val_accuracy: 0.8848\n",
            "Epoch 10/20\n",
            "30/30 [==============================] - 1s 28ms/step - loss: 0.0766 - accuracy: 0.9813 - val_loss: 0.3706 - val_accuracy: 0.8847\n",
            "Epoch 11/20\n",
            "30/30 [==============================] - 1s 27ms/step - loss: 0.0067 - accuracy: 0.9995 - val_loss: 0.5079 - val_accuracy: 0.8778\n",
            "Epoch 12/20\n",
            "30/30 [==============================] - 1s 27ms/step - loss: 0.0032 - accuracy: 0.9997 - val_loss: 0.5431 - val_accuracy: 0.8839\n",
            "Epoch 13/20\n",
            "30/30 [==============================] - 1s 28ms/step - loss: 0.0970 - accuracy: 0.9842 - val_loss: 0.4321 - val_accuracy: 0.8845\n",
            "Epoch 14/20\n",
            "30/30 [==============================] - 1s 29ms/step - loss: 0.0026 - accuracy: 1.0000 - val_loss: 0.5201 - val_accuracy: 0.8840\n",
            "Epoch 15/20\n",
            "30/30 [==============================] - 1s 32ms/step - loss: 0.0012 - accuracy: 1.0000 - val_loss: 0.5876 - val_accuracy: 0.8840\n",
            "Epoch 16/20\n",
            "30/30 [==============================] - 1s 44ms/step - loss: 6.6524e-04 - accuracy: 1.0000 - val_loss: 0.6358 - val_accuracy: 0.8838\n",
            "Epoch 17/20\n",
            "30/30 [==============================] - 1s 28ms/step - loss: 4.4180e-04 - accuracy: 1.0000 - val_loss: 0.6682 - val_accuracy: 0.8840\n",
            "Epoch 18/20\n",
            "30/30 [==============================] - 1s 28ms/step - loss: 3.0458e-04 - accuracy: 1.0000 - val_loss: 0.7013 - val_accuracy: 0.8837\n",
            "Epoch 19/20\n",
            "30/30 [==============================] - 1s 29ms/step - loss: 2.3179e-04 - accuracy: 1.0000 - val_loss: 0.7184 - val_accuracy: 0.8836\n",
            "Epoch 20/20\n",
            "30/30 [==============================] - 1s 27ms/step - loss: 1.8585e-04 - accuracy: 1.0000 - val_loss: 0.7381 - val_accuracy: 0.8833\n"
          ]
        }
      ],
      "source": [
        "model = keras.Sequential([\n",
        "    layers.Dense(512, activation=\"relu\"),\n",
        "    layers.Dense(512, activation=\"relu\"),\n",
        "    layers.Dense(1, activation=\"sigmoid\")\n",
        "])\n",
        "model.compile(optimizer=\"rmsprop\",\n",
        "              loss=\"binary_crossentropy\",\n",
        "              metrics=[\"accuracy\"])\n",
        "history_larger_model = model.fit(\n",
        "    train_data, train_labels,\n",
        "    epochs=20, batch_size=512, validation_split=0.4)"
      ]
    },
    {
      "cell_type": "markdown",
      "metadata": {
        "id": "GzDg7-kkUu1O"
      },
      "source": [
        "#### Adding weight regularization"
      ]
    },
    {
      "cell_type": "markdown",
      "metadata": {
        "id": "QBV1ERTGUu1O"
      },
      "source": [
        "**Adding L2 weight regularization to the model**"
      ]
    },
    {
      "cell_type": "code",
      "execution_count": 13,
      "metadata": {
        "id": "9Cc61kM7Uu1O",
        "outputId": "2e20347b-e411-4fd9-d518-0d9c89e9191f",
        "colab": {
          "base_uri": "https://localhost:8080/"
        }
      },
      "outputs": [
        {
          "output_type": "stream",
          "name": "stdout",
          "text": [
            "Epoch 1/20\n",
            "30/30 [==============================] - 3s 57ms/step - loss: 0.6452 - accuracy: 0.7753 - val_loss: 0.5164 - val_accuracy: 0.8552\n",
            "Epoch 2/20\n",
            "30/30 [==============================] - 1s 25ms/step - loss: 0.4448 - accuracy: 0.8796 - val_loss: 0.4145 - val_accuracy: 0.8795\n",
            "Epoch 3/20\n",
            "30/30 [==============================] - 1s 23ms/step - loss: 0.3591 - accuracy: 0.9034 - val_loss: 0.4030 - val_accuracy: 0.8675\n",
            "Epoch 4/20\n",
            "30/30 [==============================] - 1s 30ms/step - loss: 0.3158 - accuracy: 0.9175 - val_loss: 0.3790 - val_accuracy: 0.8755\n",
            "Epoch 5/20\n",
            "30/30 [==============================] - 1s 30ms/step - loss: 0.2920 - accuracy: 0.9258 - val_loss: 0.3581 - val_accuracy: 0.8853\n",
            "Epoch 6/20\n",
            "30/30 [==============================] - 1s 31ms/step - loss: 0.2739 - accuracy: 0.9335 - val_loss: 0.3564 - val_accuracy: 0.8861\n",
            "Epoch 7/20\n",
            "30/30 [==============================] - 1s 23ms/step - loss: 0.2604 - accuracy: 0.9398 - val_loss: 0.3592 - val_accuracy: 0.8850\n",
            "Epoch 8/20\n",
            "30/30 [==============================] - 1s 24ms/step - loss: 0.2528 - accuracy: 0.9415 - val_loss: 0.3635 - val_accuracy: 0.8831\n",
            "Epoch 9/20\n",
            "30/30 [==============================] - 1s 24ms/step - loss: 0.2438 - accuracy: 0.9459 - val_loss: 0.3687 - val_accuracy: 0.8836\n",
            "Epoch 10/20\n",
            "30/30 [==============================] - 1s 22ms/step - loss: 0.2395 - accuracy: 0.9461 - val_loss: 0.3772 - val_accuracy: 0.8798\n",
            "Epoch 11/20\n",
            "30/30 [==============================] - 1s 23ms/step - loss: 0.2307 - accuracy: 0.9499 - val_loss: 0.3991 - val_accuracy: 0.8738\n",
            "Epoch 12/20\n",
            "30/30 [==============================] - 1s 22ms/step - loss: 0.2290 - accuracy: 0.9514 - val_loss: 0.3895 - val_accuracy: 0.8770\n",
            "Epoch 13/20\n",
            "30/30 [==============================] - 1s 23ms/step - loss: 0.2259 - accuracy: 0.9521 - val_loss: 0.3889 - val_accuracy: 0.8791\n",
            "Epoch 14/20\n",
            "30/30 [==============================] - 1s 23ms/step - loss: 0.2206 - accuracy: 0.9541 - val_loss: 0.3836 - val_accuracy: 0.8798\n",
            "Epoch 15/20\n",
            "30/30 [==============================] - 1s 25ms/step - loss: 0.2161 - accuracy: 0.9568 - val_loss: 0.4641 - val_accuracy: 0.8600\n",
            "Epoch 16/20\n",
            "30/30 [==============================] - 1s 26ms/step - loss: 0.2137 - accuracy: 0.9549 - val_loss: 0.4023 - val_accuracy: 0.8765\n",
            "Epoch 17/20\n",
            "30/30 [==============================] - 1s 25ms/step - loss: 0.2115 - accuracy: 0.9565 - val_loss: 0.3966 - val_accuracy: 0.8767\n",
            "Epoch 18/20\n",
            "30/30 [==============================] - 1s 23ms/step - loss: 0.2125 - accuracy: 0.9555 - val_loss: 0.4104 - val_accuracy: 0.8736\n",
            "Epoch 19/20\n",
            "30/30 [==============================] - 1s 22ms/step - loss: 0.2068 - accuracy: 0.9598 - val_loss: 0.4049 - val_accuracy: 0.8764\n",
            "Epoch 20/20\n",
            "30/30 [==============================] - 1s 22ms/step - loss: 0.2024 - accuracy: 0.9615 - val_loss: 0.4040 - val_accuracy: 0.8766\n"
          ]
        }
      ],
      "source": [
        "#L2규제 (regularizers.l2 부분)\n",
        "from tensorflow.keras import regularizers\n",
        "model = keras.Sequential([\n",
        "    layers.Dense(16,\n",
        "                 kernel_regularizer=regularizers.l2(0.002),\n",
        "                 activation=\"relu\"),\n",
        "    layers.Dense(16,\n",
        "                 kernel_regularizer=regularizers.l2(0.002),\n",
        "                 activation=\"relu\"),\n",
        "    layers.Dense(1, activation=\"sigmoid\")\n",
        "])\n",
        "model.compile(optimizer=\"rmsprop\",\n",
        "              loss=\"binary_crossentropy\",\n",
        "              metrics=[\"accuracy\"])\n",
        "history_l2_reg = model.fit(\n",
        "    train_data, train_labels,\n",
        "    epochs=20, batch_size=512, validation_split=0.4)"
      ]
    },
    {
      "cell_type": "markdown",
      "metadata": {
        "id": "vXh7O47PUu1P"
      },
      "source": [
        "**Different weight regularizers available in Keras**"
      ]
    },
    {
      "cell_type": "code",
      "execution_count": 14,
      "metadata": {
        "id": "dorchLfYUu1P",
        "outputId": "8b20fd04-bf5e-43e7-9f91-358c0408ca7b",
        "colab": {
          "base_uri": "https://localhost:8080/"
        }
      },
      "outputs": [
        {
          "output_type": "execute_result",
          "data": {
            "text/plain": [
              "<keras.regularizers.L1L2 at 0x7fbdebeb2130>"
            ]
          },
          "metadata": {},
          "execution_count": 14
        }
      ],
      "source": [
        "from tensorflow.keras import regularizers\n",
        "regularizers.l1(0.001)\n",
        "regularizers.l1_l2(l1=0.001, l2=0.001)"
      ]
    },
    {
      "cell_type": "markdown",
      "metadata": {
        "id": "rGPvcTeBUu1P"
      },
      "source": [
        "#### Adding dropout"
      ]
    },
    {
      "cell_type": "markdown",
      "metadata": {
        "id": "w-39OENEUu1Q"
      },
      "source": [
        "**Adding dropout to the IMDB model**"
      ]
    },
    {
      "cell_type": "code",
      "execution_count": 15,
      "metadata": {
        "id": "94xShyX2Uu1Q",
        "outputId": "c0d5e811-3d76-4d7b-8b7f-b526f7b34a11",
        "colab": {
          "base_uri": "https://localhost:8080/"
        }
      },
      "outputs": [
        {
          "output_type": "stream",
          "name": "stdout",
          "text": [
            "Epoch 1/20\n",
            "30/30 [==============================] - 3s 56ms/step - loss: 0.6345 - accuracy: 0.6307 - val_loss: 0.5257 - val_accuracy: 0.8476\n",
            "Epoch 2/20\n",
            "30/30 [==============================] - 1s 22ms/step - loss: 0.5104 - accuracy: 0.7725 - val_loss: 0.4133 - val_accuracy: 0.8733\n",
            "Epoch 3/20\n",
            "30/30 [==============================] - 1s 23ms/step - loss: 0.4365 - accuracy: 0.8307 - val_loss: 0.3525 - val_accuracy: 0.8825\n",
            "Epoch 4/20\n",
            "30/30 [==============================] - 1s 25ms/step - loss: 0.3741 - accuracy: 0.8671 - val_loss: 0.3149 - val_accuracy: 0.8879\n",
            "Epoch 5/20\n",
            "30/30 [==============================] - 1s 23ms/step - loss: 0.3315 - accuracy: 0.8875 - val_loss: 0.2971 - val_accuracy: 0.8872\n",
            "Epoch 6/20\n",
            "30/30 [==============================] - 1s 23ms/step - loss: 0.2937 - accuracy: 0.9046 - val_loss: 0.2808 - val_accuracy: 0.8886\n",
            "Epoch 7/20\n",
            "30/30 [==============================] - 1s 36ms/step - loss: 0.2603 - accuracy: 0.9156 - val_loss: 0.2808 - val_accuracy: 0.8920\n",
            "Epoch 8/20\n",
            "30/30 [==============================] - 1s 27ms/step - loss: 0.2374 - accuracy: 0.9267 - val_loss: 0.2849 - val_accuracy: 0.8923\n",
            "Epoch 9/20\n",
            "30/30 [==============================] - 1s 25ms/step - loss: 0.2139 - accuracy: 0.9319 - val_loss: 0.3373 - val_accuracy: 0.8799\n",
            "Epoch 10/20\n",
            "30/30 [==============================] - 1s 25ms/step - loss: 0.1904 - accuracy: 0.9413 - val_loss: 0.3326 - val_accuracy: 0.8849\n",
            "Epoch 11/20\n",
            "30/30 [==============================] - 1s 22ms/step - loss: 0.1766 - accuracy: 0.9468 - val_loss: 0.3109 - val_accuracy: 0.8891\n",
            "Epoch 12/20\n",
            "30/30 [==============================] - 1s 40ms/step - loss: 0.1647 - accuracy: 0.9510 - val_loss: 0.3197 - val_accuracy: 0.8892\n",
            "Epoch 13/20\n",
            "30/30 [==============================] - 1s 42ms/step - loss: 0.1478 - accuracy: 0.9552 - val_loss: 0.3666 - val_accuracy: 0.8873\n",
            "Epoch 14/20\n",
            "30/30 [==============================] - 1s 28ms/step - loss: 0.1406 - accuracy: 0.9564 - val_loss: 0.3623 - val_accuracy: 0.8884\n",
            "Epoch 15/20\n",
            "30/30 [==============================] - 1s 28ms/step - loss: 0.1242 - accuracy: 0.9602 - val_loss: 0.3982 - val_accuracy: 0.8874\n",
            "Epoch 16/20\n",
            "30/30 [==============================] - 1s 29ms/step - loss: 0.1215 - accuracy: 0.9622 - val_loss: 0.4296 - val_accuracy: 0.8865\n",
            "Epoch 17/20\n",
            "30/30 [==============================] - 1s 41ms/step - loss: 0.1134 - accuracy: 0.9661 - val_loss: 0.4396 - val_accuracy: 0.8842\n",
            "Epoch 18/20\n",
            "30/30 [==============================] - 1s 23ms/step - loss: 0.1107 - accuracy: 0.9661 - val_loss: 0.4564 - val_accuracy: 0.8858\n",
            "Epoch 19/20\n",
            "30/30 [==============================] - 1s 28ms/step - loss: 0.1006 - accuracy: 0.9692 - val_loss: 0.4638 - val_accuracy: 0.8839\n",
            "Epoch 20/20\n",
            "30/30 [==============================] - 1s 28ms/step - loss: 0.0966 - accuracy: 0.9711 - val_loss: 0.5157 - val_accuracy: 0.8808\n"
          ]
        }
      ],
      "source": [
        "model = keras.Sequential([\n",
        "    layers.Dense(16, activation=\"relu\"),\n",
        "    layers.Dropout(0.5),\n",
        "    layers.Dense(16, activation=\"relu\"),\n",
        "    layers.Dropout(0.5),\n",
        "    layers.Dense(1, activation=\"sigmoid\")\n",
        "])\n",
        "model.compile(optimizer=\"rmsprop\",\n",
        "              loss=\"binary_crossentropy\",\n",
        "              metrics=[\"accuracy\"])\n",
        "history_dropout = model.fit(\n",
        "    train_data, train_labels,\n",
        "    epochs=20, batch_size=512, validation_split=0.4)"
      ]
    },
    {
      "cell_type": "markdown",
      "metadata": {
        "id": "j5SP9r2GUu1Q"
      },
      "source": [
        "## Summary"
      ]
    }
  ],
  "metadata": {
    "colab": {
      "name": "chapter05_fundamentals-of-ml.i",
      "provenance": [],
      "include_colab_link": true
    },
    "kernelspec": {
      "display_name": "Python 3",
      "language": "python",
      "name": "python3"
    },
    "language_info": {
      "codemirror_mode": {
        "name": "ipython",
        "version": 3
      },
      "file_extension": ".py",
      "mimetype": "text/x-python",
      "name": "python",
      "nbconvert_exporter": "python",
      "pygments_lexer": "ipython3",
      "version": "3.7.0"
    },
    "accelerator": "GPU",
    "gpuClass": "standard"
  },
  "nbformat": 4,
  "nbformat_minor": 0
}